{
 "cells": [
  {
   "cell_type": "code",
   "execution_count": 44,
   "id": "5a084a7f-fd4e-4d32-b983-db461efedfd4",
   "metadata": {},
   "outputs": [],
   "source": [
    "# ### Explanation of Code Sections:\r\n",
    "\r\n",
    "# 1. Data Preparation and Exploration:\r\n",
    "#    - The code starts with importing necessary libraries and preparing sample data.\r\n",
    "#    - Data exploration functions (`describe`, `info`) provide an overview of the dataset.\r\n",
    "\r\n",
    "# 2. Optimal Binning:\r\n",
    "#    - `OptimalBinning` from the `optbinning` library is used to perform optimal binning on the PD scores.\r\n",
    "#    - The binned data is then transformed and scored manually using WOE values.\r\n",
    "\r\n",
    "# 3. Model Validation Technique\r\n",
    "#    - **ROC Cue and AUC**: Evaluate the model's discriminatory pow.\r\n",
    "#    - *rier Score**: Measure the accuracy of probabilistic predictis.\r\n",
    "#    - **Calration Plot**: Visualize the alignment between predicted probabilities and actual outcomes.\r\n",
    "\r\n",
    "# 4. Stability and Robuness:\r\n",
    "#    - **Population Stabity Index (PSI)**: Measure the change in distribution of PD scores over time to assess model stability.\r\n",
    "\r\n",
    "# 5. Reporting and Documentation:\r\n",
    "#    - Results and plots should be documented.\r\n",
    "#    - Save the binning process and scorepedictive analytics.\r\n"
   ]
  },
  {
   "cell_type": "markdown",
   "id": "41fe1dc1-ef05-4a9f-8ecb-9de96f29f40e",
   "metadata": {
    "jp-MarkdownHeadingCollapsed": true
   },
   "source": [
    "# Import Liberaries"
   ]
  },
  {
   "cell_type": "code",
   "execution_count": 27,
   "id": "fa71dfbc-1905-4d3e-bf75-b5bea506f1f5",
   "metadata": {},
   "outputs": [],
   "source": [
    "import pandas as pd\n",
    "import numpy as np\n",
    "from optbinning import BinningProcess, OptimalBinning\n",
    "from sklearn.metrics import roc_auc_score, brier_score_loss, roc_curve, auc\n",
    "import matplotlib.pyplot as plt\n",
    "from scipy.stats import chi2_contingency\n",
    "from sklearn.tree import DecisionTreeClassifier"
   ]
  },
  {
   "cell_type": "markdown",
   "id": "73a9a6ec-53d7-4bac-bde8-60c242e542e9",
   "metadata": {
    "jp-MarkdownHeadingCollapsed": true
   },
   "source": [
    "# Sample Data (Replace with actual data)"
   ]
  },
  {
   "cell_type": "code",
   "execution_count": 28,
   "id": "cafd1513-0eef-410d-9c52-692853322921",
   "metadata": {},
   "outputs": [],
   "source": [
    "data = pd.DataFrame({\n",
    "    'pd_score': [0.1, 0.2, 0.3, 0.4, 0.5, 0.6, 0.7, 0.8, 0.9],\n",
    "    'target': [0, 0, 0, 1, 1, 1, 1, 0, 1]\n",
    "})"
   ]
  },
  {
   "cell_type": "markdown",
   "id": "f5eca24c-ca52-4bb5-99d1-3ba6c80cd235",
   "metadata": {
    "jp-MarkdownHeadingCollapsed": true
   },
   "source": [
    "# 1. Data Preparation and Exploration"
   ]
  },
  {
   "cell_type": "markdown",
   "id": "fac8f21a-287d-43ba-b7ba-893b60031cd0",
   "metadata": {
    "jp-MarkdownHeadingCollapsed": true
   },
   "source": [
    "#### Understanding and cleaning the data"
   ]
  },
  {
   "cell_type": "code",
   "execution_count": 29,
   "id": "487a0b38-7001-4b5c-aa17-44a7e451a694",
   "metadata": {},
   "outputs": [
    {
     "name": "stdout",
     "output_type": "stream",
     "text": [
      "<class 'pandas.core.frame.DataFrame'>\n",
      "RangeIndex: 9 entries, 0 to 8\n",
      "Data columns (total 2 columns):\n",
      " #   Column    Non-Null Count  Dtype  \n",
      "---  ------    --------------  -----  \n",
      " 0   pd_score  9 non-null      float64\n",
      " 1   target    9 non-null      int64  \n",
      "dtypes: float64(1), int64(1)\n",
      "memory usage: 276.0 bytes\n"
     ]
    }
   ],
   "source": [
    "data.describe()  # Summary statistics\n",
    "data.info()      # Data types and non-null counts"
   ]
  },
  {
   "cell_type": "markdown",
   "id": "c0ccd49d-11ea-4d82-a369-bdec5f9e6f75",
   "metadata": {
    "jp-MarkdownHeadingCollapsed": true
   },
   "source": [
    "# 2. Optimal Binning"
   ]
  },
  {
   "cell_type": "markdown",
   "id": "c8fab814-8f99-4708-8c8f-50c342484d6e",
   "metadata": {
    "jp-MarkdownHeadingCollapsed": true
   },
   "source": [
    "#### Define the variable to be binned"
   ]
  },
  {
   "cell_type": "code",
   "execution_count": 30,
   "id": "e657e0a8-0b4a-4428-979d-de13e5f06994",
   "metadata": {},
   "outputs": [],
   "source": [
    "variable = 'pd_score'"
   ]
  },
  {
   "cell_type": "markdown",
   "id": "6de269f9-f1c8-4994-bef6-b95dc7d99060",
   "metadata": {
    "jp-MarkdownHeadingCollapsed": true
   },
   "source": [
    "#### Create and fit the optimal binning process"
   ]
  },
  {
   "cell_type": "code",
   "execution_count": 31,
   "id": "97e0a2a4-c032-4aaf-a45a-04964832c8de",
   "metadata": {},
   "outputs": [
    {
     "data": {
      "text/html": [
       "<style>#sk-container-id-3 {color: black;background-color: white;}#sk-container-id-3 pre{padding: 0;}#sk-container-id-3 div.sk-toggleable {background-color: white;}#sk-container-id-3 label.sk-toggleable__label {cursor: pointer;display: block;width: 100%;margin-bottom: 0;padding: 0.3em;box-sizing: border-box;text-align: center;}#sk-container-id-3 label.sk-toggleable__label-arrow:before {content: \"▸\";float: left;margin-right: 0.25em;color: #696969;}#sk-container-id-3 label.sk-toggleable__label-arrow:hover:before {color: black;}#sk-container-id-3 div.sk-estimator:hover label.sk-toggleable__label-arrow:before {color: black;}#sk-container-id-3 div.sk-toggleable__content {max-height: 0;max-width: 0;overflow: hidden;text-align: left;background-color: #f0f8ff;}#sk-container-id-3 div.sk-toggleable__content pre {margin: 0.2em;color: black;border-radius: 0.25em;background-color: #f0f8ff;}#sk-container-id-3 input.sk-toggleable__control:checked~div.sk-toggleable__content {max-height: 200px;max-width: 100%;overflow: auto;}#sk-container-id-3 input.sk-toggleable__control:checked~label.sk-toggleable__label-arrow:before {content: \"▾\";}#sk-container-id-3 div.sk-estimator input.sk-toggleable__control:checked~label.sk-toggleable__label {background-color: #d4ebff;}#sk-container-id-3 div.sk-label input.sk-toggleable__control:checked~label.sk-toggleable__label {background-color: #d4ebff;}#sk-container-id-3 input.sk-hidden--visually {border: 0;clip: rect(1px 1px 1px 1px);clip: rect(1px, 1px, 1px, 1px);height: 1px;margin: -1px;overflow: hidden;padding: 0;position: absolute;width: 1px;}#sk-container-id-3 div.sk-estimator {font-family: monospace;background-color: #f0f8ff;border: 1px dotted black;border-radius: 0.25em;box-sizing: border-box;margin-bottom: 0.5em;}#sk-container-id-3 div.sk-estimator:hover {background-color: #d4ebff;}#sk-container-id-3 div.sk-parallel-item::after {content: \"\";width: 100%;border-bottom: 1px solid gray;flex-grow: 1;}#sk-container-id-3 div.sk-label:hover label.sk-toggleable__label {background-color: #d4ebff;}#sk-container-id-3 div.sk-serial::before {content: \"\";position: absolute;border-left: 1px solid gray;box-sizing: border-box;top: 0;bottom: 0;left: 50%;z-index: 0;}#sk-container-id-3 div.sk-serial {display: flex;flex-direction: column;align-items: center;background-color: white;padding-right: 0.2em;padding-left: 0.2em;position: relative;}#sk-container-id-3 div.sk-item {position: relative;z-index: 1;}#sk-container-id-3 div.sk-parallel {display: flex;align-items: stretch;justify-content: center;background-color: white;position: relative;}#sk-container-id-3 div.sk-item::before, #sk-container-id-3 div.sk-parallel-item::before {content: \"\";position: absolute;border-left: 1px solid gray;box-sizing: border-box;top: 0;bottom: 0;left: 50%;z-index: -1;}#sk-container-id-3 div.sk-parallel-item {display: flex;flex-direction: column;z-index: 1;position: relative;background-color: white;}#sk-container-id-3 div.sk-parallel-item:first-child::after {align-self: flex-end;width: 50%;}#sk-container-id-3 div.sk-parallel-item:last-child::after {align-self: flex-start;width: 50%;}#sk-container-id-3 div.sk-parallel-item:only-child::after {width: 0;}#sk-container-id-3 div.sk-dashed-wrapped {border: 1px dashed gray;margin: 0 0.4em 0.5em 0.4em;box-sizing: border-box;padding-bottom: 0.4em;background-color: white;}#sk-container-id-3 div.sk-label label {font-family: monospace;font-weight: bold;display: inline-block;line-height: 1.2em;}#sk-container-id-3 div.sk-label-container {text-align: center;}#sk-container-id-3 div.sk-container {/* jupyter's `normalize.less` sets `[hidden] { display: none; }` but bootstrap.min.css set `[hidden] { display: none !important; }` so we also need the `!important` here to be able to override the default hidden behavior on the sphinx rendered scikit-learn.org. See: https://github.com/scikit-learn/scikit-learn/issues/21755 */display: inline-block !important;position: relative;}#sk-container-id-3 div.sk-text-repr-fallback {display: none;}</style><div id=\"sk-container-id-3\" class=\"sk-top-container\"><div class=\"sk-text-repr-fallback\"><pre>OptimalBinning(name=&#x27;pd_score&#x27;)</pre><b>In a Jupyter environment, please rerun this cell to show the HTML representation or trust the notebook. <br />On GitHub, the HTML representation is unable to render, please try loading this page with nbviewer.org.</b></div><div class=\"sk-container\" hidden><div class=\"sk-item\"><div class=\"sk-estimator sk-toggleable\"><input class=\"sk-toggleable__control sk-hidden--visually\" id=\"sk-estimator-id-3\" type=\"checkbox\" checked><label for=\"sk-estimator-id-3\" class=\"sk-toggleable__label sk-toggleable__label-arrow\">OptimalBinning</label><div class=\"sk-toggleable__content\"><pre>OptimalBinning(name=&#x27;pd_score&#x27;)</pre></div></div></div></div></div>"
      ],
      "text/plain": [
       "OptimalBinning(name='pd_score')"
      ]
     },
     "execution_count": 31,
     "metadata": {},
     "output_type": "execute_result"
    }
   ],
   "source": [
    "optb = OptimalBinning(name=variable, dtype=\"numerical\", solver=\"cp\")\n",
    "optb.fit(data[variable], data['target'])"
   ]
  },
  {
   "cell_type": "markdown",
   "id": "598cde99-14b8-4a8c-8315-71afe3568415",
   "metadata": {
    "jp-MarkdownHeadingCollapsed": true
   },
   "source": [
    "#### Transform the data using the fitted binning process"
   ]
  },
  {
   "cell_type": "code",
   "execution_count": 32,
   "id": "6aa9b844-d8a9-4308-8e45-7ed77c794cf3",
   "metadata": {},
   "outputs": [],
   "source": [
    "data['binned'] = optb.transform(data[variable], metric=\"bins\")"
   ]
  },
  {
   "cell_type": "markdown",
   "id": "c2f73403-9888-42b0-a121-eadd74aefea9",
   "metadata": {
    "jp-MarkdownHeadingCollapsed": true
   },
   "source": [
    "#### Calculate WOE and apply to data"
   ]
  },
  {
   "cell_type": "code",
   "execution_count": 33,
   "id": "32bde292-f339-4d76-963c-35f8dea8b522",
   "metadata": {},
   "outputs": [],
   "source": [
    "data['woe'] = optb.transform(data[variable], metric=\"woe\")"
   ]
  },
  {
   "cell_type": "markdown",
   "id": "ae7e5051-bf2e-47f9-863c-38358ed15d84",
   "metadata": {
    "jp-MarkdownHeadingCollapsed": true
   },
   "source": [
    "#### Calculate score manually (e.g., using WOE values)"
   ]
  },
  {
   "cell_type": "code",
   "execution_count": 34,
   "id": "18ea4c47-3c6e-4549-8844-d7a09d924f92",
   "metadata": {},
   "outputs": [],
   "source": [
    "data['score'] = data['woe'] * 100  # Simple linear transformation example"
   ]
  },
  {
   "cell_type": "markdown",
   "id": "61388f17-4fdf-48ff-9f98-df2c20e4da8a",
   "metadata": {
    "jp-MarkdownHeadingCollapsed": true
   },
   "source": [
    "#### Normalize the score to be between 0 and 1"
   ]
  },
  {
   "cell_type": "code",
   "execution_count": 35,
   "id": "9dde56f9-359c-4f9e-8996-90bcd52f3f10",
   "metadata": {
    "scrolled": true
   },
   "outputs": [],
   "source": [
    "score_min = data['score'].min()\n",
    "score_max = data['score'].max()"
   ]
  },
  {
   "cell_type": "markdown",
   "id": "43f87633-c9ee-408e-b5ea-0784c4fe3243",
   "metadata": {
    "jp-MarkdownHeadingCollapsed": true
   },
   "source": [
    "#### Check for division by zero"
   ]
  },
  {
   "cell_type": "code",
   "execution_count": 36,
   "id": "9e1fb61d-fe2a-4005-b4a2-34f75c3a5588",
   "metadata": {},
   "outputs": [],
   "source": [
    "if score_min == score_max:\n",
    "    data['normalized_score'] = 0.5  # Assign a constant value if all scores are the same\n",
    "else:\n",
    "    data['normalized_score'] = (data['score'] - score_min) / (score_max - score_min)"
   ]
  },
  {
   "cell_type": "markdown",
   "id": "de85f8ab-e52e-4b94-947d-ae9d2c67bd16",
   "metadata": {
    "jp-MarkdownHeadingCollapsed": true
   },
   "source": [
    "# 3. Model Validation Techniques"
   ]
  },
  {
   "cell_type": "markdown",
   "id": "1cc0badc-558b-4d29-aabb-3058e5264f75",
   "metadata": {
    "jp-MarkdownHeadingCollapsed": true
   },
   "source": [
    "## 3.1. Discriminatory Power"
   ]
  },
  {
   "cell_type": "markdown",
   "id": "ccaef8aa-073d-4f7d-a843-349319ab7882",
   "metadata": {
    "jp-MarkdownHeadingCollapsed": true
   },
   "source": [
    "#### ROC Curve and AUC"
   ]
  },
  {
   "cell_type": "code",
   "execution_count": 37,
   "id": "7b3d88f1-317a-4510-9a0c-7fb889534a86",
   "metadata": {},
   "outputs": [
    {
     "name": "stdout",
     "output_type": "stream",
     "text": [
      "ROC AUC Score: 0.5\n"
     ]
    }
   ],
   "source": [
    "fpr, tpr, _ = roc_curve(data['target'], data['normalized_score'])\n",
    "roc_auc = auc(fpr, tpr)\n",
    "print(f\"ROC AUC Score: {roc_auc}\")"
   ]
  },
  {
   "cell_type": "markdown",
   "id": "b3ac2c03-1dda-4e0a-939d-fccf0742e127",
   "metadata": {
    "jp-MarkdownHeadingCollapsed": true
   },
   "source": [
    "#### Plot ROC Curve"
   ]
  },
  {
   "cell_type": "code",
   "execution_count": 38,
   "id": "9c5135be-eb8c-40e3-8c63-860d97b811e9",
   "metadata": {},
   "outputs": [
    {
     "data": {
      "image/png": "[encoded data removed]",
      "text/plain": [
       "<Figure size 640x480 with 1 Axes>"
      ]
     },
     "metadata": {},
     "output_type": "display_data"
    }
   ],
   "source": [
    "plt.figure()\n",
    "plt.plot(fpr, tpr, color='darkorange', lw=2, label='ROC curve (area = %0.2f)' % roc_auc)\n",
    "plt.plot([0, 1], [0, 1], color='navy', lw=2, linestyle='--')\n",
    "plt.xlim([0.0, 1.0])\n",
    "plt.ylim([0.0, 1.05])\n",
    "plt.xlabel('False Positive Rate')\n",
    "plt.ylabel('True Positive Rate')\n",
    "plt.title('Receiver Operating Characteristic')\n",
    "plt.legend(loc=\"lower right\")\n",
    "plt.show()"
   ]
  },
  {
   "cell_type": "markdown",
   "id": "47d30650-f9e4-44f7-a6a5-94f34483fc2e",
   "metadata": {
    "jp-MarkdownHeadingCollapsed": true
   },
   "source": [
    "# 3.2. Predictive Power"
   ]
  },
  {
   "cell_type": "markdown",
   "id": "c66a03e0-57ea-49b9-b2cf-5ee1b07ed6a4",
   "metadata": {
    "jp-MarkdownHeadingCollapsed": true
   },
   "source": [
    "## Brier Score"
   ]
  },
  {
   "cell_type": "code",
   "execution_count": 39,
   "id": "5aa46e4b-0f23-4dab-93eb-e08a10597533",
   "metadata": {},
   "outputs": [
    {
     "name": "stdout",
     "output_type": "stream",
     "text": [
      "Brier Score: 0.25\n"
     ]
    }
   ],
   "source": [
    "brier = brier_score_loss(data['target'], data['normalized_score'])\n",
    "print(f\"Brier Score: {brier}\")"
   ]
  },
  {
   "cell_type": "markdown",
   "id": "f9130ae2-0128-4574-8f7e-0ac2bc210e8f",
   "metadata": {
    "jp-MarkdownHeadingCollapsed": true
   },
   "source": [
    "# 3.3. Calibration"
   ]
  },
  {
   "cell_type": "markdown",
   "id": "d0954a06-b647-4e1e-a691-f98889e2bef0",
   "metadata": {
    "jp-MarkdownHeadingCollapsed": true
   },
   "source": [
    "#### Calibration Plot"
   ]
  },
  {
   "cell_type": "code",
   "execution_count": 40,
   "id": "5b7cb40c-1c74-4ba7-84b2-304cef309492",
   "metadata": {},
   "outputs": [
    {
     "data": {
      "image/png": "[encoded data removed]",
      "text/plain": [
       "<Figure size 640x480 with 1 Axes>"
      ]
     },
     "metadata": {},
     "output_type": "display_data"
    }
   ],
   "source": [
    "def plot_calibration_curve(y_true, y_prob, n_bins=10):\n",
    "    bins = np.linspace(0, 1, n_bins + 1)\n",
    "    bin_centers = (bins[:-1] + bins[1:]) / 2\n",
    "    bin_true_prob = np.zeros(n_bins)\n",
    "    \n",
    "    for i in range(n_bins):\n",
    "        bin_mask = (y_prob >= bins[i]) & (y_prob < bins[i + 1])\n",
    "        bin_true_prob[i] = y_true[bin_mask].mean()\n",
    "    \n",
    "    plt.figure()\n",
    "    plt.plot(bin_centers, bin_true_prob, marker='o', label='Binned Probabilities')\n",
    "    plt.plot([0, 1], [0, 1], linestyle='--', label='Perfect Calibration')\n",
    "    plt.xlabel('Predicted Probability')\n",
    "    plt.ylabel('True Probability')\n",
    "    plt.title('Calibration Curve')\n",
    "    plt.legend()\n",
    "    plt.show()\n",
    "\n",
    "plot_calibration_curve(data['target'], data['normalized_score'])"
   ]
  },
  {
   "cell_type": "markdown",
   "id": "64130a67-aba9-45c8-94c6-2d2a1129f974",
   "metadata": {
    "jp-MarkdownHeadingCollapsed": true
   },
   "source": [
    "# 4. Stability and Robustness"
   ]
  },
  {
   "cell_type": "markdown",
   "id": "79c18681-fa2d-4601-96c7-1195180d3319",
   "metadata": {
    "jp-MarkdownHeadingCollapsed": true
   },
   "source": [
    "#### Population Stability Index (PSI) calculation"
   ]
  },
  {
   "cell_type": "code",
   "execution_count": 41,
   "id": "0b5b8ca5-b5d8-4a7f-b965-74e05664034b",
   "metadata": {},
   "outputs": [],
   "source": [
    "def calculate_psi(expected, actual, buckets=10):\n",
    "    def scale_range(input, min, max):\n",
    "        input += -(np.min(input))\n",
    "        input /= np.max(input) / (max - min)\n",
    "        input += min\n",
    "        return input\n",
    "    \n",
    "    expected = scale_range(expected, 0, 1)\n",
    "    actual = scale_range(actual, 0, 1)\n",
    "    \n",
    "    breakpoints = np.arange(0, buckets + 1) / (buckets) \n",
    "    \n",
    "    expected_percents = np.histogram(expected, bins=breakpoints)[0] / len(expected)\n",
    "    actual_percents = np.histogram(actual, bins=breakpoints)[0] / len(actual)\n",
    "    \n",
    "    def sub_psi(e_perc, a_perc):\n",
    "        if a_perc == 0:\n",
    "            a_perc = 0.0001\n",
    "        if e_perc == 0:\n",
    "            e_perc = 0.0001\n",
    "        return (e_perc - a_perc) * np.log(e_perc / a_perc)\n",
    "    \n",
    "    psi_value = np.sum(sub_psi(expected_percents[i], actual_percents[i]) for i in range(0, len(expected_percents)))\n",
    "    \n",
    "    return psi_value"
   ]
  },
  {
   "cell_type": "markdown",
   "id": "a894923b-5e0e-43bc-9360-3b160517ae49",
   "metadata": {
    "jp-MarkdownHeadingCollapsed": true
   },
   "source": [
    "# Example PSI calculation"
   ]
  },
  {
   "cell_type": "markdown",
   "id": "ace74c83-7d80-4125-9815-14705599c9c7",
   "metadata": {
    "jp-MarkdownHeadingCollapsed": true
   },
   "source": [
    "#### Compare distributions over time periods"
   ]
  },
  {
   "cell_type": "code",
   "execution_count": 42,
   "id": "288ab591-04f1-4393-9c18-8266663129e2",
   "metadata": {},
   "outputs": [
    {
     "name": "stdout",
     "output_type": "stream",
     "text": [
      "Population Stability Index (PSI): 0.0\n"
     ]
    },
    {
     "name": "stderr",
     "output_type": "stream",
     "text": [
      "C:\\Users\\vincent.chandekar\\AppData\\Local\\Temp\\ipykernel_23140\\2957285473.py:23: DeprecationWarning: Calling np.sum(generator) is deprecated, and in the future will give a different result. Use np.sum(np.fromiter(generator)) or the python sum builtin instead.\n",
      "  psi_value = np.sum(sub_psi(expected_percents[i], actual_percents[i]) for i in range(0, len(expected_percents)))\n"
     ]
    }
   ],
   "source": [
    "expected_scores = data['normalized_score'][:5]  # e.g., Scores from a previous period\n",
    "actual_scores = data['normalized_score'][5:]    # e.g., Scores from the current period\n",
    "psi = calculate_psi(expected_scores, actual_scores)\n",
    "print(f\"Population Stability Index (PSI): {psi}\")"
   ]
  },
  {
   "cell_type": "markdown",
   "id": "cc22bef0-365b-4d76-8bf2-62a0fa24f30b",
   "metadata": {
    "jp-MarkdownHeadingCollapsed": true
   },
   "source": [
    "# 5. Reporting and Documentation"
   ]
  },
  {
   "cell_type": "markdown",
   "id": "e5d6a55f-ee97-43a2-935e-314382ce9529",
   "metadata": {
    "jp-MarkdownHeadingCollapsed": true
   },
   "source": [
    "#### All results and plots should be documented and reported comprehensively"
   ]
  },
  {
   "cell_type": "markdown",
   "id": "cee768d1-e131-4e24-b93d-32110fbeaddd",
   "metadata": {
    "jp-MarkdownHeadingCollapsed": true
   },
   "source": [
    "#### Save the binning process for future use"
   ]
  },
  {
   "cell_type": "code",
   "execution_count": null,
   "id": "e1884544-bce9-4195-89c8-1025f85e21be",
   "metadata": {},
   "outputs": [],
   "source": [
    "import pickle\n",
    "with open('binning_process.pkl', 'wb') as f:\n",
    "    pickle.dump(optb, f)"
   ]
  }
 ],
 "metadata": {
  "kernelspec": {
   "display_name": "Python 3 (ipykernel)",
   "language": "python",
   "name": "python3"
  },
  "language_info": {
   "codemirror_mode": {
    "name": "ipython",
    "version": 3
   },
   "file_extension": ".py",
   "mimetype": "text/x-python",
   "name": "python",
   "nbconvert_exporter": "python",
   "pygments_lexer": "ipython3",
   "version": "3.11.7"
  }
 },
 "nbformat": 4,
 "nbformat_minor": 5
}
