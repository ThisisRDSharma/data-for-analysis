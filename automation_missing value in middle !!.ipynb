{
 "cells": [
  {
   "cell_type": "code",
   "execution_count": 9,
   "id": "375f8981",
   "metadata": {},
   "outputs": [
    {
     "name": "stdout",
     "output_type": "stream",
     "text": [
      "Original DataFrame:\n",
      "     A    B    C    D    E\n",
      "0  1.0  2.0  NaN  4.0  5.0\n",
      "1  NaN  2.0  3.0  4.0  NaN\n",
      "2  3.0  NaN  3.0  4.0  5.0\n",
      "3  4.0  5.0  6.0  7.0  8.0\n",
      "4  NaN  5.0  6.0  NaN  8.0\n",
      "\n",
      "Indices of rows with missing values in the specified column range:\n",
      "[0]\n"
     ]
    }
   ],
   "source": [
    "import pandas as pd\n",
    "import numpy as np\n",
    "\n",
    "# Sample data\n",
    "data = {\n",
    "    'A': [1, np.nan, 3, 4, np.nan],\n",
    "    'B': [2, 2, np.nan, 5, 5],\n",
    "    'C': [np.nan, 3, 3, 6, 6],\n",
    "    'D': [4, 4, 4, 7, np.nan],\n",
    "    'E': [5, np.nan, 5, 8, 8]\n",
    "}\n",
    "\n",
    "df = pd.DataFrame(data)\n",
    "print(\"Original DataFrame:\")\n",
    "print(df)\n",
    "\n",
    "def find_rows_with_missing_values(df, start_col, end_col):\n",
    "    # Get the subset of the DataFrame for the specified column range\n",
    "    df_subset = df.loc[:, start_col:end_col]\n",
    "    \n",
    "    # Initialize an empty list to store indices of rows with missing values in the specified range\n",
    "    rows_with_missing_values = []\n",
    "\n",
    "    # Iterate over the rows of the subset\n",
    "    for i in range(len(df_subset)):\n",
    "        row = df_subset.iloc[i]\n",
    "        # Check if the first and last values in the range are not missing\n",
    "        if pd.notna(row.iloc[0]) and pd.notna(row.iloc[-1]):\n",
    "            # Check if there are any missing values in the middle of the range\n",
    "            if row.isna().sum() > 0:\n",
    "                rows_with_missing_values.append(i)\n",
    "\n",
    "    return rows_with_missing_values\n",
    "\n",
    "# Specify the column range\n",
    "start_col = 'B'\n",
    "end_col = 'D'\n",
    "\n",
    "# Find rows with missing values in the specified column range\n",
    "rows_with_missing = find_rows_with_missing_values(df, start_col, end_col)\n",
    "print(\"\\nIndices of rows with missing values in the specified column range:\")\n",
    "print(rows_with_missing)\n"
   ]
  },
  {
   "cell_type": "code",
   "execution_count": null,
   "id": "0c6719c9",
   "metadata": {},
   "outputs": [],
   "source": []
  }
 ],
 "metadata": {
  "kernelspec": {
   "display_name": "Python 3 (ipykernel)",
   "language": "python",
   "name": "python3"
  },
  "language_info": {
   "codemirror_mode": {
    "name": "ipython",
    "version": 3
   },
   "file_extension": ".py",
   "mimetype": "text/x-python",
   "name": "python",
   "nbconvert_exporter": "python",
   "pygments_lexer": "ipython3",
   "version": "3.9.13"
  },
  "varInspector": {
   "cols": {
    "lenName": 16,
    "lenType": 16,
    "lenVar": 40
   },
   "kernels_config": {
    "python": {
     "delete_cmd_postfix": "",
     "delete_cmd_prefix": "del ",
     "library": "var_list.py",
     "varRefreshCmd": "print(var_dic_list())"
    },
    "r": {
     "delete_cmd_postfix": ") ",
     "delete_cmd_prefix": "rm(",
     "library": "var_list.r",
     "varRefreshCmd": "cat(var_dic_list()) "
    }
   },
   "types_to_exclude": [
    "module",
    "function",
    "builtin_function_or_method",
    "instance",
    "_Feature"
   ],
   "window_display": false
  }
 },
 "nbformat": 4,
 "nbformat_minor": 5
}
